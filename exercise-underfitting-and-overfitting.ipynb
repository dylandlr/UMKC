{
 "cells": [
  {
   "cell_type": "markdown",
   "id": "3da465c2",
   "metadata": {
    "papermill": {
     "duration": 0.004079,
     "end_time": "2024-06-18T01:05:02.503766",
     "exception": false,
     "start_time": "2024-06-18T01:05:02.499687",
     "status": "completed"
    },
    "tags": []
   },
   "source": [
    "**This notebook is an exercise in the [Introduction to Machine Learning](https://www.kaggle.com/learn/intro-to-machine-learning) course.  You can reference the tutorial at [this link](https://www.kaggle.com/dansbecker/underfitting-and-overfitting).**\n",
    "\n",
    "---\n"
   ]
  },
  {
   "cell_type": "markdown",
   "id": "4c5d98df",
   "metadata": {
    "papermill": {
     "duration": 0.003506,
     "end_time": "2024-06-18T01:05:02.511649",
     "exception": false,
     "start_time": "2024-06-18T01:05:02.508143",
     "status": "completed"
    },
    "tags": []
   },
   "source": [
    "## Recap\n",
    "You've built your first model, and now it's time to optimize the size of the tree to make better predictions. Run this cell to set up your coding environment where the previous step left off."
   ]
  },
  {
   "cell_type": "code",
   "execution_count": 1,
   "id": "7899fbcf",
   "metadata": {
    "execution": {
     "iopub.execute_input": "2024-06-18T01:05:02.521232Z",
     "iopub.status.busy": "2024-06-18T01:05:02.520773Z",
     "iopub.status.idle": "2024-06-18T01:05:05.373261Z",
     "shell.execute_reply": "2024-06-18T01:05:05.372079Z"
    },
    "papermill": {
     "duration": 2.860144,
     "end_time": "2024-06-18T01:05:05.375804",
     "exception": false,
     "start_time": "2024-06-18T01:05:02.515660",
     "status": "completed"
    },
    "tags": []
   },
   "outputs": [
    {
     "name": "stdout",
     "output_type": "stream",
     "text": [
      "Validation MAE: 29,653\n",
      "\n",
      "Setup complete\n"
     ]
    }
   ],
   "source": [
    "# Code you have previously used to load data\n",
    "import pandas as pd\n",
    "from sklearn.metrics import mean_absolute_error\n",
    "from sklearn.model_selection import train_test_split\n",
    "from sklearn.tree import DecisionTreeRegressor\n",
    "\n",
    "\n",
    "# Path of the file to read\n",
    "iowa_file_path = '../input/home-data-for-ml-course/train.csv'\n",
    "\n",
    "home_data = pd.read_csv(iowa_file_path)\n",
    "# Create target object and call it y\n",
    "y = home_data.SalePrice\n",
    "# Create X\n",
    "features = ['LotArea', 'YearBuilt', '1stFlrSF', '2ndFlrSF', 'FullBath', 'BedroomAbvGr', 'TotRmsAbvGrd']\n",
    "X = home_data[features]\n",
    "\n",
    "# Split into validation and training data\n",
    "train_X, val_X, train_y, val_y = train_test_split(X, y, random_state=1)\n",
    "\n",
    "# Specify Model\n",
    "iowa_model = DecisionTreeRegressor(random_state=1)\n",
    "# Fit Model\n",
    "iowa_model.fit(train_X, train_y)\n",
    "\n",
    "# Make validation predictions and calculate mean absolute error\n",
    "val_predictions = iowa_model.predict(val_X)\n",
    "val_mae = mean_absolute_error(val_predictions, val_y)\n",
    "print(\"Validation MAE: {:,.0f}\".format(val_mae))\n",
    "\n",
    "# Set up code checking\n",
    "from learntools.core import binder\n",
    "binder.bind(globals())\n",
    "from learntools.machine_learning.ex5 import *\n",
    "print(\"\\nSetup complete\")"
   ]
  },
  {
   "cell_type": "markdown",
   "id": "e747edeb",
   "metadata": {
    "papermill": {
     "duration": 0.003427,
     "end_time": "2024-06-18T01:05:05.383071",
     "exception": false,
     "start_time": "2024-06-18T01:05:05.379644",
     "status": "completed"
    },
    "tags": []
   },
   "source": [
    "# Exercises\n",
    "You could write the function `get_mae` yourself. For now, we'll supply it. This is the same function you read about in the previous lesson. Just run the cell below."
   ]
  },
  {
   "cell_type": "code",
   "execution_count": 2,
   "id": "b5031f16",
   "metadata": {
    "execution": {
     "iopub.execute_input": "2024-06-18T01:05:05.392523Z",
     "iopub.status.busy": "2024-06-18T01:05:05.391696Z",
     "iopub.status.idle": "2024-06-18T01:05:05.397355Z",
     "shell.execute_reply": "2024-06-18T01:05:05.396308Z"
    },
    "papermill": {
     "duration": 0.012767,
     "end_time": "2024-06-18T01:05:05.399599",
     "exception": false,
     "start_time": "2024-06-18T01:05:05.386832",
     "status": "completed"
    },
    "tags": []
   },
   "outputs": [],
   "source": [
    "def get_mae(max_leaf_nodes, train_X, val_X, train_y, val_y):\n",
    "    model = DecisionTreeRegressor(max_leaf_nodes=max_leaf_nodes, random_state=0)\n",
    "    model.fit(train_X, train_y)\n",
    "    preds_val = model.predict(val_X)\n",
    "    mae = mean_absolute_error(val_y, preds_val)\n",
    "    return(mae)"
   ]
  },
  {
   "cell_type": "markdown",
   "id": "254d0ec3",
   "metadata": {
    "papermill": {
     "duration": 0.003728,
     "end_time": "2024-06-18T01:05:05.407014",
     "exception": false,
     "start_time": "2024-06-18T01:05:05.403286",
     "status": "completed"
    },
    "tags": []
   },
   "source": [
    "## Step 1: Compare Different Tree Sizes\n",
    "Write a loop that tries the following values for *max_leaf_nodes* from a set of possible values.\n",
    "\n",
    "Call the *get_mae* function on each value of max_leaf_nodes. Store the output in some way that allows you to select the value of `max_leaf_nodes` that gives the most accurate model on your data."
   ]
  },
  {
   "cell_type": "code",
   "execution_count": 3,
   "id": "c63af0de",
   "metadata": {
    "execution": {
     "iopub.execute_input": "2024-06-18T01:05:05.416740Z",
     "iopub.status.busy": "2024-06-18T01:05:05.416312Z",
     "iopub.status.idle": "2024-06-18T01:05:05.472241Z",
     "shell.execute_reply": "2024-06-18T01:05:05.471120Z"
    },
    "papermill": {
     "duration": 0.063675,
     "end_time": "2024-06-18T01:05:05.474755",
     "exception": false,
     "start_time": "2024-06-18T01:05:05.411080",
     "status": "completed"
    },
    "tags": []
   },
   "outputs": [
    {
     "name": "stdout",
     "output_type": "stream",
     "text": [
      "Max lead nodes: 5 \t\t Mean Absolute Error: 35044\n",
      "Max lead nodes: 25 \t\t Mean Absolute Error: 29016\n",
      "Max lead nodes: 50 \t\t Mean Absolute Error: 27405\n",
      "Max lead nodes: 100 \t\t Mean Absolute Error: 27282\n",
      "Max lead nodes: 250 \t\t Mean Absolute Error: 27893\n",
      "Max lead nodes: 500 \t\t Mean Absolute Error: 29454\n"
     ]
    },
    {
     "data": {
      "application/javascript": [
       "parent.postMessage({\"jupyterEvent\": \"custom.exercise_interaction\", \"data\": {\"outcomeType\": 1, \"valueTowardsCompletion\": 0.5, \"interactionType\": 1, \"questionType\": 1, \"questionId\": \"1_BestTreeSize\", \"learnToolsVersion\": \"0.3.4\", \"failureMessage\": \"\", \"exceptionClass\": \"\", \"trace\": \"\"}}, \"*\")"
      ],
      "text/plain": [
       "<IPython.core.display.Javascript object>"
      ]
     },
     "metadata": {},
     "output_type": "display_data"
    },
    {
     "data": {
      "text/markdown": [
       "<span style=\"color:#33cc33\">Correct</span>"
      ],
      "text/plain": [
       "Correct"
      ]
     },
     "metadata": {},
     "output_type": "display_data"
    }
   ],
   "source": [
    "candidate_max_leaf_nodes = [5, 25, 50, 100, 250, 500]\n",
    "# Write loop to find the ideal tree size from candidate_max_leaf_nodes\n",
    "for max_leaf_nodes in candidate_max_leaf_nodes:\n",
    "    my_mae = get_mae(max_leaf_nodes, train_X, val_X, train_y, val_y)\n",
    "    print(\"Max lead nodes: %d \\t\\t Mean Absolute Error: %d\" %(max_leaf_nodes, my_mae))\n",
    "\n",
    "# Store the best value of max_leaf_nodes (it will be either 5, 25, 50, 100, 250 or 500)\n",
    "best_tree_size = 100 # since 100 gives the least error\n",
    "# Check your answer\n",
    "step_1.check()"
   ]
  },
  {
   "cell_type": "code",
   "execution_count": 4,
   "id": "3bcbf068",
   "metadata": {
    "execution": {
     "iopub.execute_input": "2024-06-18T01:05:05.484865Z",
     "iopub.status.busy": "2024-06-18T01:05:05.484422Z",
     "iopub.status.idle": "2024-06-18T01:05:05.489326Z",
     "shell.execute_reply": "2024-06-18T01:05:05.488058Z"
    },
    "papermill": {
     "duration": 0.012867,
     "end_time": "2024-06-18T01:05:05.491840",
     "exception": false,
     "start_time": "2024-06-18T01:05:05.478973",
     "status": "completed"
    },
    "tags": []
   },
   "outputs": [],
   "source": [
    "# The lines below will show you a hint or the solution.\n",
    "# step_1.hint() \n",
    "# step_1.solution()"
   ]
  },
  {
   "cell_type": "markdown",
   "id": "870940c0",
   "metadata": {
    "papermill": {
     "duration": 0.003961,
     "end_time": "2024-06-18T01:05:05.500021",
     "exception": false,
     "start_time": "2024-06-18T01:05:05.496060",
     "status": "completed"
    },
    "tags": []
   },
   "source": [
    "## Step 2: Fit Model Using All Data\n",
    "You know the best tree size. If you were going to deploy this model in practice, you would make it even more accurate by using all of the data and keeping that tree size.  That is, you don't need to hold out the validation data now that you've made all your modeling decisions."
   ]
  },
  {
   "cell_type": "code",
   "execution_count": 5,
   "id": "4b32d10e",
   "metadata": {
    "execution": {
     "iopub.execute_input": "2024-06-18T01:05:05.509998Z",
     "iopub.status.busy": "2024-06-18T01:05:05.509597Z",
     "iopub.status.idle": "2024-06-18T01:05:05.527883Z",
     "shell.execute_reply": "2024-06-18T01:05:05.526718Z"
    },
    "papermill": {
     "duration": 0.025844,
     "end_time": "2024-06-18T01:05:05.530129",
     "exception": false,
     "start_time": "2024-06-18T01:05:05.504285",
     "status": "completed"
    },
    "tags": []
   },
   "outputs": [
    {
     "data": {
      "application/javascript": [
       "parent.postMessage({\"jupyterEvent\": \"custom.exercise_interaction\", \"data\": {\"outcomeType\": 1, \"valueTowardsCompletion\": 0.5, \"interactionType\": 1, \"questionType\": 2, \"questionId\": \"2_FitModelWithAllData\", \"learnToolsVersion\": \"0.3.4\", \"failureMessage\": \"\", \"exceptionClass\": \"\", \"trace\": \"\"}}, \"*\")"
      ],
      "text/plain": [
       "<IPython.core.display.Javascript object>"
      ]
     },
     "metadata": {},
     "output_type": "display_data"
    },
    {
     "data": {
      "text/markdown": [
       "<span style=\"color:#33cc33\">Correct</span>"
      ],
      "text/plain": [
       "Correct"
      ]
     },
     "metadata": {},
     "output_type": "display_data"
    }
   ],
   "source": [
    "# Fill in argument to make optimal size and uncomment\n",
    "final_model = DecisionTreeRegressor(max_leaf_nodes=100, random_state=0)\n",
    "\n",
    "# fit the final model and uncomment the next two lines\n",
    "final_model.fit(X, y) # here X and y are the features and target variables respectively which we created in the previous step\n",
    "# to make predictions on the validation data, as it represents the test set and the entire dataset\n",
    "\n",
    "# Check your answer\n",
    "step_2.check()"
   ]
  },
  {
   "cell_type": "code",
   "execution_count": 6,
   "id": "5600fee4",
   "metadata": {
    "execution": {
     "iopub.execute_input": "2024-06-18T01:05:05.540949Z",
     "iopub.status.busy": "2024-06-18T01:05:05.540417Z",
     "iopub.status.idle": "2024-06-18T01:05:05.549850Z",
     "shell.execute_reply": "2024-06-18T01:05:05.548759Z"
    },
    "papermill": {
     "duration": 0.017843,
     "end_time": "2024-06-18T01:05:05.552455",
     "exception": false,
     "start_time": "2024-06-18T01:05:05.534612",
     "status": "completed"
    },
    "tags": []
   },
   "outputs": [
    {
     "data": {
      "application/javascript": [
       "parent.postMessage({\"jupyterEvent\": \"custom.exercise_interaction\", \"data\": {\"interactionType\": 2, \"questionType\": 2, \"questionId\": \"2_FitModelWithAllData\", \"learnToolsVersion\": \"0.3.4\", \"valueTowardsCompletion\": 0.0, \"failureMessage\": \"\", \"exceptionClass\": \"\", \"trace\": \"\", \"outcomeType\": 4}}, \"*\")"
      ],
      "text/plain": [
       "<IPython.core.display.Javascript object>"
      ]
     },
     "metadata": {},
     "output_type": "display_data"
    },
    {
     "data": {
      "text/markdown": [
       "<span style=\"color:#3366cc\">Hint:</span> Fit with the ideal value of max_leaf_nodes. In the fit step, use all of the data in the dataset"
      ],
      "text/plain": [
       "Hint: Fit with the ideal value of max_leaf_nodes. In the fit step, use all of the data in the dataset"
      ]
     },
     "metadata": {},
     "output_type": "display_data"
    }
   ],
   "source": [
    "step_2.hint()\n",
    "# step_2.solution()"
   ]
  },
  {
   "cell_type": "markdown",
   "id": "6c7cc714",
   "metadata": {
    "papermill": {
     "duration": 0.004286,
     "end_time": "2024-06-18T01:05:05.561502",
     "exception": false,
     "start_time": "2024-06-18T01:05:05.557216",
     "status": "completed"
    },
    "tags": []
   },
   "source": [
    "You've tuned this model and improved your results. But we are still using Decision Tree models, which are not very sophisticated by modern machine learning standards. In the next step you will learn to use Random Forests to improve your models even more.\n",
    "\n",
    "# Keep Going\n",
    "\n",
    "You are ready for **[Random Forests](https://www.kaggle.com/dansbecker/random-forests).**\n"
   ]
  },
  {
   "cell_type": "markdown",
   "id": "b9c03a5b",
   "metadata": {
    "papermill": {
     "duration": 0.004236,
     "end_time": "2024-06-18T01:05:05.570566",
     "exception": false,
     "start_time": "2024-06-18T01:05:05.566330",
     "status": "completed"
    },
    "tags": []
   },
   "source": [
    "---\n",
    "\n",
    "\n",
    "\n",
    "\n",
    "*Have questions or comments? Visit the [course discussion forum](https://www.kaggle.com/learn/intro-to-machine-learning/discussion) to chat with other learners.*"
   ]
  }
 ],
 "metadata": {
  "kaggle": {
   "accelerator": "none",
   "dataSources": [
    {
     "databundleVersionId": 111096,
     "sourceId": 10211,
     "sourceType": "competition"
    },
    {
     "datasetId": 11167,
     "sourceId": 15520,
     "sourceType": "datasetVersion"
    },
    {
     "datasetId": 2709,
     "sourceId": 38454,
     "sourceType": "datasetVersion"
    }
   ],
   "isGpuEnabled": false,
   "isInternetEnabled": false,
   "language": "python",
   "sourceType": "notebook"
  },
  "kernelspec": {
   "display_name": "Python 3",
   "language": "python",
   "name": "python3"
  },
  "language_info": {
   "codemirror_mode": {
    "name": "ipython",
    "version": 3
   },
   "file_extension": ".py",
   "mimetype": "text/x-python",
   "name": "python",
   "nbconvert_exporter": "python",
   "pygments_lexer": "ipython3",
   "version": "3.10.13"
  },
  "papermill": {
   "default_parameters": {},
   "duration": 6.619779,
   "end_time": "2024-06-18T01:05:06.196702",
   "environment_variables": {},
   "exception": null,
   "input_path": "__notebook__.ipynb",
   "output_path": "__notebook__.ipynb",
   "parameters": {},
   "start_time": "2024-06-18T01:04:59.576923",
   "version": "2.5.0"
  }
 },
 "nbformat": 4,
 "nbformat_minor": 5
}
