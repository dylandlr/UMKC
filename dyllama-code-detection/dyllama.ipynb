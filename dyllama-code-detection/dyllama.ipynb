{
 "cells": [
  {
   "cell_type": "code",
   "execution_count": null,
   "metadata": {},
   "outputs": [],
   "source": [
    "# %%python -m venv llama3_env\n",
    "# %llama3_env/Scripts/activate  # On Windows, use `llama3_env\\Scripts\\activate`\n",
    "%pip install ollama torch transformers\n"
   ]
  },
  {
   "cell_type": "code",
   "execution_count": null,
   "metadata": {},
   "outputs": [],
   "source": [
    "import ollama\n",
    "\n",
    "# Load the Llama3:70b model\n",
    "\n",
    "#system prompt\n",
    "messages = [{\n",
    "    \"role\": \"user\",\n",
    "    \"content\": \"why is the sky blue?\"\n",
    "}]\n",
    "model_name = \"llama3:70b\"\n",
    "response = ollama.chat(model=model_name, messages=messages)\n",
    "\n",
    "print(response['messages']['content'])"
   ]
  },
  {
   "cell_type": "code",
   "execution_count": null,
   "metadata": {},
   "outputs": [],
   "source": [
    "# use text classification to distinguish between positive integer overflow and negative integer overflow (none)\n",
    "from torch.utils.data import DataLoader, Dataset\n",
    "from transformers import DataCollatorForLanguageModeling, LlamaTokenizer\n",
    "\n",
    "# Load the tokenizer for Llama3\n",
    "tokenizer = LlamaTokenizer.from_pretrained(model_name)\n",
    "\n",
    "class TextDataset(Dataset):\n",
    "    def __init__(self, tokenizer, texts, max_length):\n",
    "        self.input_ids = [tokenizer.encode(text, truncation=True, max_length=max_length, return_tensors=\"pt\")[0] for text in texts]\n",
    "\n",
    "    def __len__(self):\n",
    "        return len(self.input_ids)\n",
    "\n",
    "    def __getitem__(self, idx):\n",
    "        return self.input_ids[idx]\n",
    "\n",
    "# Example texts for fine-tuning\n",
    "texts = [\n",
    "    \"def reserve(buffer, new_size):\\n    if new_size > len(buffer):\\n        buffer.extend([None] * (new_size - len(buffer)))\\n    return buffer\",\n",
    "    \"def reserve(buffer, new_size):\\n    old_size = len(buffer)\\n    if new_size > old_size:\\n        buffer.extend([None] * (new_size - old_size))\\n    return buffer\"\n",
    "]\n",
    "\n",
    "# Create dataset\n",
    "dataset = TextDataset(tokenizer, texts, max_length=512)\n",
    "\n",
    "# Create data loader\n",
    "data_loader = DataLoader(dataset, batch_size=2, shuffle=True, collate_fn=DataCollatorForLanguageModeling(tokenizer))\n"
   ]
  }
 ],
 "metadata": {
  "kernelspec": {
   "display_name": "Python 3",
   "language": "python",
   "name": "python3"
  },
  "language_info": {
   "codemirror_mode": {
    "name": "ipython",
    "version": 3
   },
   "file_extension": ".py",
   "mimetype": "text/x-python",
   "name": "python",
   "nbconvert_exporter": "python",
   "pygments_lexer": "ipython3",
   "version": "3.12.3"
  }
 },
 "nbformat": 4,
 "nbformat_minor": 2
}
